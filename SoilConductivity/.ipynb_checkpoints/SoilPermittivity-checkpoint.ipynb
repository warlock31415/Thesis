{
 "cells": [
  {
   "cell_type": "markdown",
   "id": "b6068306-15d9-499d-9cc9-c5db6efb801c",
   "metadata": {},
   "source": [
    "There have been some studies done to measure the dielectric property of soil depending on volumetric water content. In their paper [Topp](Electromagnetic determination of soil water content Measurements in coaxial transmission lines.pdf), et al. proposed an empirical model for soil permittivity dependent on moisture content. This model is given by:\n",
    "$$\n",
    "\t\\epsilon_r = 3.03 + 9.3\\theta + 146.0\\theta^2 -76.7\\theta^3\n",
    "$$\n",
    "where $\\epsilon_r$ is the relative permittivity of the sample and $\\theta$ is the volumetric water content in the soil. There are other empirical models, but this seems to be the most accurate.\n"
   ]
  },
  {
   "cell_type": "markdown",
   "id": "deea94ac-43f2-4498-a477-f70546c9044e",
   "metadata": {},
   "source": [
    "## Soil content\n",
    "For a perfect soil with spherical particles, the packing density of 70%. The rest can be either  air or water. Concentration of water >30% will result in a saturated soil content."
   ]
  },
  {
   "cell_type": "code",
   "execution_count": 1,
   "id": "5bc6372d-562c-46d1-8b76-8001fe2bbc33",
   "metadata": {},
   "outputs": [
    {
     "name": "stdout",
     "output_type": "stream",
     "text": [
      "warning: using the gnuplot graphics toolkit is discouraged\n",
      "\n",
      "The gnuplot graphics toolkit is not actively maintained and has a number\n",
      "of limitations that are ulikely to be fixed.  Communication with gnuplot\n",
      "uses a one-directional pipe and limited information is passed back to the\n",
      "Octave interpreter so most changes made interactively in the plot window\n",
      "will not be reflected in the graphics properties managed by Octave.  For\n",
      "example, if the plot window is closed with a mouse click, Octave will not\n",
      "be notified and will not update it's internal list of open figure windows.\n",
      "We recommend using the qt toolkit instead.\n",
      "\n"
     ]
    }
   ],
   "source": [
    "% Define all required material properties:\n",
    "\n",
    "%% Permittivity\n",
    "soil.er = 3.03;\n",
    "water.er = 80;\n",
    "air.er = 1;\n",
    "\n",
    "%% Velocity of EM waves in material\n",
    "air.v = 2.98e9;\n",
    "soil.v = air.v/sqrt(soil.er);\n",
    "water.v = air.v/sqrt(water.er);"
   ]
  },
  {
   "cell_type": "markdown",
   "id": "be14bf5f-e85a-48da-a6bc-d331cad24b2d",
   "metadata": {},
   "source": [
    "The propagation constant can be calculated as required can be calculated by:\n",
    "$$\n",
    "\t\\beta_{m} = \\frac{\\omega}{v_p}\n",
    "\t\t\t\t= \\frac{\\omega}{\\frac{c}{\\sqrt{\\epsilon_r}}}\n",
    "\t\t\t\t= \\beta_{air}\\sqrt{\\epsilon_r}\n",
    "$$"
   ]
  },
  {
   "cell_type": "code",
   "execution_count": 2,
   "id": "915f2516-8395-404e-8089-b8f3a6acf2a5",
   "metadata": {},
   "outputs": [],
   "source": [
    "%% Propagation constant at f = 2.45GHz\n",
    "f = 2.45e9;\n",
    "air.b = 2*pi*f/air.v;\n",
    "soil.b = air.b*sqrt(soil.er);\n",
    "water.b = air.b*sqrt(water.er);"
   ]
  },
  {
   "cell_type": "code",
   "execution_count": 3,
   "id": "227c8067-a21c-4bcf-82cc-cd0acab5ec1e",
   "metadata": {},
   "outputs": [],
   "source": [
    "%% Characteristic impedance of the material\n",
    "air.imp = sqrt(4*pi*1e-7/8.8541878e-12);\n",
    "soil.imp = air.imp/sqrt(soil.er);\n",
    "water.imp = air.imp/sqrt(water.er);\n",
    "\n",
    "%% Other nice things to have\n",
    "air.name = \"air\";\n",
    "air.num = 1;\n",
    "\n",
    "soil.name = \"soil\";\n",
    "soil.num = 2;\n",
    "\n",
    "water.name = \"water\";\n",
    "water.num = 3;"
   ]
  },
  {
   "cell_type": "code",
   "execution_count": 4,
   "id": "5807ce55-b59b-47d0-9b7a-5ae446d84ddd",
   "metadata": {},
   "outputs": [
    {
     "data": {
      "image/png": "[encoded data removed]",
      "text/plain": [
       "<IPython.core.display.Image object>"
      ]
     },
     "metadata": {},
     "output_type": "display_data"
    }
   ],
   "source": [
    "% Get a soil cross section depending on probability:\n",
    "\n",
    "%% Number of particles to generate\n",
    "DEPTH = 100;\n",
    "\n",
    "%% Define total water content as a percentage with a max of 30%\n",
    "WATER_CONTENT = 5;\n",
    "\n",
    "content_count = zeros(1,3);\n",
    "\n",
    "for i=1:DEPTH\n",
    "    m = rand;\n",
    "    if m > 0.30 \n",
    "        mat = soil;\n",
    "        content_count(soil.num) = content_count(soil.num) + 1;\n",
    "        %display(\"Got soil\")\n",
    "    elseif m <= WATER_CONTENT/100\n",
    "        mat = water;\n",
    "        content_count(water.num) = content_count(water.num) + 1;\n",
    "        %display(\"Got water\");\n",
    "    else \n",
    "        mat = air;\n",
    "        content_count(air.num) = content_count(air.num) + 1;\n",
    "        %display(\"Got air\");\n",
    "    endif\n",
    "    soil_cs{i} = mat;\n",
    "endfor\n",
    "\n",
    "pie(content_count,[0,0,1]);\n",
    "legend(\"Air\",\"Soil\",\"Water\");\n",
    "title(\"Actual composition of the soil sample\")"
   ]
  },
  {
   "cell_type": "markdown",
   "id": "52dc6002-80b9-46e3-9f4a-2553edef55ae",
   "metadata": {},
   "source": [
    "## Alternate ways to calculate bulk permittivity\n",
    "\n",
    "Use multiple slab equation to calculate bulk reflection coefficient and then back calculate for $\\epsilon_r$ \n",
    "\n",
    "$$\n",
    "\\Gamma_{bulk} = \\Gamma_0 + \\Gamma_1e^{-j2\\beta_1d_1} + \\Gamma_2e^{-j2(\\beta_1d_1+\\beta_2d_2)} + ... + \\Gamma_ne^{-j2(\\beta_1d_1+\\beta_2d_2 + ... + \\beta_n d_n)}\n",
    "$$"
   ]
  },
  {
   "cell_type": "markdown",
   "id": "8e90f73b-bf12-410a-be40-6a191bae089d",
   "metadata": {},
   "source": [
    "### The program\n",
    "   To do this in a programatic manner, we will loop through the soil cross section we generated above and calculate the reflection coeeficient at each boundary. We can calculate the reflection coefficient using the following formula:\n",
    "   $$\n",
    "       \\Gamma_{1,2} = \\frac{\\eta_2-\\eta_1}{\\eta_2+\\eta_1}\n",
    "   $$\n",
    "   where $\\Gamma_{1,2}$ is the reflection coefficient of the boundary between materials 1 and 2, $\\eta_1$ is the characteristic impedance of material 1 and $\\eta_2$ is the characteristic impedance of material 2."
   ]
  },
  {
   "cell_type": "code",
   "execution_count": 5,
   "id": "8b78ac40-f5d7-4e45-8fb4-a6fe3563aa84",
   "metadata": {},
   "outputs": [],
   "source": [
    "gamma(1) = (soil_cs{1}.imp - air.imp)/(soil_cs{1}.imp + air.imp);\n",
    "for i=2:DEPTH\n",
    "    gamma(i) = (soil_cs{i}.imp - soil_cs{i-1}.imp)/(soil_cs{i}.imp + soil_cs{i-1}.imp);\n",
    "endfor"
   ]
  },
  {
   "cell_type": "markdown",
   "id": "00ab3cf3-fd47-448a-8eb4-80c4f89bade3",
   "metadata": {},
   "source": [
    "Similarly, lets calculate the exponents in the equation to make it easier and organised:"
   ]
  },
  {
   "cell_type": "code",
   "execution_count": 6,
   "id": "fb66eed1-686c-480f-9270-a44ee8eb7df2",
   "metadata": {},
   "outputs": [],
   "source": [
    "beta_sum = 0;\n",
    "for i=2:DEPTH\n",
    "    beta_sum(i) = beta_sum(i-1) + soil_cs{i}.b;\n",
    "endfor"
   ]
  },
  {
   "cell_type": "markdown",
   "id": "15a8c3e9-0c47-4549-86de-50d84acc0f78",
   "metadata": {},
   "source": [
    "Putting everything together:"
   ]
  },
  {
   "cell_type": "code",
   "execution_count": 7,
   "id": "99ece1fa-87a0-47f8-9dc1-0d23fcb14eef",
   "metadata": {},
   "outputs": [
    {
     "name": "stdout",
     "output_type": "stream",
     "text": [
      "error: 'Gamma' undefined near line 2, column 2\n"
     ]
    }
   ],
   "source": [
    "Gamma = 0\n",
    "for i=1:DEPTH\n",
    "    Gamma = Gamma + gamma(i)*exp(-2*1j*beta_sum(i));\n",
    "endfor"
   ]
  },
  {
   "cell_type": "markdown",
   "id": "ba5c257b-ffe1-4292-ad8f-decf747c0fce",
   "metadata": {},
   "source": [
    "Then, \n",
    "$$\n",
    "\\Gamma_{bulk} = \\frac{\\eta_{bulk}-\\eta_0}{\\eta_{bulk}+\\eta_0}\n",
    "$$\n",
    "\n",
    "Thus:\n",
    "$$\n",
    "\t\\eta_{bulk} = -\\frac{\\Gamma_{bulk} + 1}{\\Gamma_{bulk} - 1}\\eta_0\n",
    "$$"
   ]
  },
  {
   "cell_type": "code",
   "execution_count": 8,
   "id": "f12f5506-dad2-45fc-90e3-4617c1d89219",
   "metadata": {},
   "outputs": [
    {
     "name": "stdout",
     "output_type": "stream",
     "text": [
      "error: 'Gamma' undefined near line 1, column 1\n"
     ]
    }
   ],
   "source": [
    "imp_bulk = -(Gamma+1)*air.imp/(Gamma-1)"
   ]
  },
  {
   "cell_type": "markdown",
   "id": "61399e01-36b4-4c89-be59-a0e643bc2923",
   "metadata": {},
   "source": [
    "Since we assumed that the permeability of the sample is 1. The permittivity is given by \n",
    "$$\n",
    "    \\epsilon_r = \\frac{1}{\\eta_{bulk}^2}\n",
    "$$"
   ]
  },
  {
   "cell_type": "code",
   "execution_count": 9,
   "id": "65717be7-4ef2-4286-86b9-2ec672614d9f",
   "metadata": {},
   "outputs": [
    {
     "name": "stdout",
     "output_type": "stream",
     "text": [
      "error: 'imp_bulk' undefined near line 1, column 1\n"
     ]
    }
   ],
   "source": [
    "er_bulk = 1/(imp_bulk^2)"
   ]
  },
  {
   "cell_type": "markdown",
   "id": "115e159f-6d5b-4a58-aeab-d13dd41d3b08",
   "metadata": {},
   "source": [
    "where,\n",
    "$\\beta_m$ is the propagation constant in the dielectric,\n",
    "$\\beta_{air}$ is the propagation constant in vacuum/air\n",
    "$\\omega$ is the frequency of the EM wave,\n",
    "$c$ is the speed of light in vacuum/air and \n",
    "$\\epsilon_r$ is the relative dielectric permittivity of the material.\n",
    "\n",
    "## Assumptions made\n",
    "- All particles are cubes\n",
    "- All particles are the same size\n",
    "- All particles are internally homogeneous\n",
    "- All particles have relative permeability of 1"
   ]
  },
  {
   "cell_type": "code",
   "execution_count": null,
   "id": "05964164-9889-4d1c-b924-c17be3466785",
   "metadata": {},
   "outputs": [],
   "source": []
  }
 ],
 "metadata": {
  "kernelspec": {
   "display_name": "Octave",
   "language": "octave",
   "name": "octave"
  },
  "language_info": {
   "file_extension": ".m",
   "help_links": [
    {
     "text": "GNU Octave",
     "url": "https://www.gnu.org/software/octave/support.html"
    },
    {
     "text": "Octave Kernel",
     "url": "https://github.com/Calysto/octave_kernel"
    },
    {
     "text": "MetaKernel Magics",
     "url": "https://metakernel.readthedocs.io/en/latest/source/README.html"
    }
   ],
   "mimetype": "text/x-octave",
   "name": "octave",
   "version": "6.4.0"
  }
 },
 "nbformat": 4,
 "nbformat_minor": 5
}
