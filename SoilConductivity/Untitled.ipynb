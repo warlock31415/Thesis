{
 "cells": [
  {
   "cell_type": "markdown",
   "id": "71fac9f9-69ec-4f4c-b2a6-4412acf398e1",
   "metadata": {},
   "source": [
    "- Try using loss tangent. Given loss tanget you can back calculate attenuation and propagation constant\n",
    "\n",
    "- Use intrinsic impedance to calculate $\\theta_\\eta$ \n",
    "\n",
    "- Book EE382 "
   ]
  },
  {
   "cell_type": "markdown",
   "id": "2358ecca-58d4-4db9-b193-a8409a8e942d",
   "metadata": {},
   "source": [
    "- account for d when same mixture\n",
    "\n",
    "- average soil water content\n",
    "\n",
    "- "
   ]
  },
  {
   "cell_type": "code",
   "execution_count": null,
   "id": "b221342a-11e2-4303-b2a3-d97fcc0a268f",
   "metadata": {},
   "outputs": [],
   "source": []
  }
 ],
 "metadata": {
  "kernelspec": {
   "display_name": "Octave",
   "language": "octave",
   "name": "octave"
  },
  "language_info": {
   "file_extension": ".m",
   "help_links": [
    {
     "text": "GNU Octave",
     "url": "https://www.gnu.org/software/octave/support.html"
    },
    {
     "text": "Octave Kernel",
     "url": "https://github.com/Calysto/octave_kernel"
    },
    {
     "text": "MetaKernel Magics",
     "url": "https://metakernel.readthedocs.io/en/latest/source/README.html"
    }
   ],
   "mimetype": "text/x-octave",
   "name": "octave",
   "version": "6.4.0"
  }
 },
 "nbformat": 4,
 "nbformat_minor": 5
}
